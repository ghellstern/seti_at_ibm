{
 "cells": [
  {
   "cell_type": "markdown",
   "metadata": {},
   "source": [
    "# IBM SETI Tutorial\n",
    "\n",
    "## Get data from Object Store and calculate features"
   ]
  },
  {
   "cell_type": "code",
   "execution_count": 1,
   "metadata": {
    "collapsed": false
   },
   "outputs": [],
   "source": [
    "#!pip install --user --upgrade ibmseti\n",
    "#!pip install --user --upgrade ibmos2spark\n",
    "import ibmseti\n",
    "import ibmos2spark as oss\n",
    "%matplotlib inline\n",
    "import numpy as np\n",
    "import matplotlib.pyplot as plt"
   ]
  },
  {
   "cell_type": "code",
   "execution_count": 2,
   "metadata": {
    "collapsed": false
   },
   "outputs": [],
   "source": [
    "credentials_1 = {\n",
    "  'auth_uri':'',\n",
    "  'global_account_auth_uri':'',\n",
    "  'username':'xxx',\n",
    "  'password':\"xxx\",\n",
    "  'auth_url':'https://identity.open.softlayer.com',\n",
    "  'project':'xxx',\n",
    "  'project_id':'xxx',\n",
    "  'region':'dallas',\n",
    "  'user_id':'xx',\n",
    "  'domain_id':'xx',\n",
    "  'domain_name':'xx',\n",
    "  'container':'seti_raw_data',\n",
    "  'tenant_id':'xx'\n",
    "}\n",
    "\n",
    "credentials_1['name'] = 'my_seti_data'"
   ]
  },
  {
   "cell_type": "code",
   "execution_count": 3,
   "metadata": {
    "collapsed": false
   },
   "outputs": [],
   "source": [
    "bmos = oss.bluemix2d(sc, credentials_1)\n",
    "rdd = sc.pickleFile(bmos.url('seti_raw_data', 'kepler1229b.sigdb.archive-compamps.rdd.dict.pickle'))"
   ]
  },
  {
   "cell_type": "markdown",
   "metadata": {},
   "source": [
    "## Extract the Spectrograms from each file"
   ]
  },
  {
   "cell_type": "code",
   "execution_count": 4,
   "metadata": {
    "collapsed": true
   },
   "outputs": [],
   "source": [
    "def extract_spectrogram_and_bins(row):\n",
    "\n",
    "    aca = ibmseti.compamp.Compamp(row['raw_data'])\n",
    "    \n",
    "    spect = ibmseti.dsp.compamp_to_spectrogram(aca)  \n",
    "    \n",
    "    #calculates the frequency (fb) and time (tb) bins\n",
    "    fb = ibmseti.dsp.frequency_bins(aca.header())\n",
    "    tb = ibmseti.dsp.time_bins(aca.header())\n",
    "\n",
    "    return (tb, fb, aca.header(), spect)"
   ]
  },
  {
   "cell_type": "code",
   "execution_count": 5,
   "metadata": {
    "collapsed": true
   },
   "outputs": [],
   "source": [
    "rdd = rdd.map(extract_spectrogram_and_bins)"
   ]
  },
  {
   "cell_type": "markdown",
   "metadata": {},
   "source": [
    "## Example Feature: \"standard deviation\" \n",
    "\n",
    "The standard deviation of a set of values is used to measure the \"width\" of the distribution of those values about its central value. In our case, it's used as a proxy to estimate if a signal exists in the spectrogram.\n",
    "\n",
    "We calculate a mean standard deviation for each axis. \n",
    "\n",
    "Consider a spectrogram of N frequency bins (typically 6144) and M time bins (typically 129). Stepping through the calculation, we start with the variance \"along the time axis\".\n",
    "\n",
    "`var_t = ibmseti.features.moment( spectrogram, axis=0, moment=2)` \n",
    "\n",
    "The array `var_t` is of length N, where each element is the variance of the M values for each particular frequency bins. \n",
    "\n",
    "Then `np.sqrt(var_t)` takes the square root and leaves an array of size N. We've calculated the standard deviation, the \"width\", of the M values for each frequency bin. Finally, `std_time` is the mean of those N values. \n",
    "\n",
    "We do the same for the other axis, calculating the mean standard deviation \"along the frequency axis\" for each of the time bins, which we call `std_freq`.  \n",
    "\n",
    "\n",
    "### Typical Narrow Band Signal\n",
    "\n",
    "For a typical narrow-band signal with a relatively small amount of drift, the `std_freq` will be relatively large. This is because at each of the M time intervals, the set of the values across all frequencies will contain a large number of small noise values and a large number of large signal values -- thus, a wide distribution of numbers. Along the time-axis, the `std_time` will be relatively small because for most of the frequency bins, there will be just noise in a small range of values just above zero. There will, of course, be a handful of frequency bins with large widths as the signal passes through that frequency. But the vast majority will be noise, resulting in a small `std_time`.\n",
    "\n",
    "### Wideband Pulse\n",
    "\n",
    "Conversely, a signal that is seen across a wide range of frequencies, but only for a short duration, will have a small `std_freq` and a large `std_time`. "
   ]
  },
  {
   "cell_type": "code",
   "execution_count": 6,
   "metadata": {
    "collapsed": true
   },
   "outputs": [],
   "source": [
    "import math\n",
    "\n",
    "def extract_mean_std(row):\n",
    "    std_time = np.mean(np.sqrt(ibmseti.features.moment( row[3], axis=0, moment=2)))\n",
    "    std_freq = np.mean(np.sqrt(ibmseti.features.moment( row[3], axis=1, moment=2)))\n",
    "    return (std_time, std_freq)"
   ]
  },
  {
   "cell_type": "code",
   "execution_count": 7,
   "metadata": {
    "collapsed": true
   },
   "outputs": [],
   "source": [
    "rdd_features = rdd.map(extract_mean_std)"
   ]
  },
  {
   "cell_type": "code",
   "execution_count": 8,
   "metadata": {
    "collapsed": false
   },
   "outputs": [
    {
     "name": "stdout",
     "output_type": "stream",
     "text": [
      "CPU times: user 5.9 ms, sys: 6.85 ms, total: 12.7 ms\n",
      "Wall time: 22.2 s\n"
     ]
    }
   ],
   "source": [
    "%time npfeat = np.array(rdd_features.collect())"
   ]
  },
  {
   "cell_type": "code",
   "execution_count": 9,
   "metadata": {
    "collapsed": false
   },
   "outputs": [
    {
     "data": {
      "image/png": "[encoded data removed]",
      "text/plain": [
       "<matplotlib.figure.Figure at 0x7f1293019190>"
      ]
     },
     "metadata": {},
     "output_type": "display_data"
    }
   ],
   "source": [
    "fig, ax = plt.subplots(figsize=(10, 5))\n",
    "plt.scatter( npfeat[:, 1], npfeat[:, 0])\n",
    "plt.xlabel(r'$\\sigma_{frequency}$', fontsize=20)\n",
    "plt.ylabel(r'$\\sigma_{time}$', fontsize=20)\n",
    "plt.show()\n"
   ]
  },
  {
   "cell_type": "markdown",
   "metadata": {},
   "source": [
    "### Features In Context\n",
    "\n",
    "Some work has been done already to extract the 'mean_std' features for all archive-compamp files.\n",
    "\n",
    "http://imgur.com/siffvT8\n",
    "\n",
    "From that link, you'll see these data fall right in the middle of that full archive-compamp set. The idea is to come up with features that allow for classification of signals. This is very much unexplored data!\n"
   ]
  },
  {
   "cell_type": "markdown",
   "metadata": {},
   "source": [
    "## More features to be considered:\n",
    "\n",
    "* std of spectrogram projected on time and freq axis\n",
    "* third and fourth moments (std is sqrt(2nd moment))\n",
    "* Log(pixel) histogram fits\n",
    "* Entropy\n",
    "* Total Variation\n",
    "* Maximum Variation\n",
    "* Mean first-difference\n",
    "* 2nd, 3rd and 4th moments of first-difference\n",
    "* Excess Kurtosis"
   ]
  },
  {
   "cell_type": "code",
   "execution_count": null,
   "metadata": {
    "collapsed": true
   },
   "outputs": [],
   "source": []
  }
 ],
 "metadata": {
  "kernelspec": {
   "display_name": "Python 2",
   "language": "python",
   "name": "python2"
  },
  "language_info": {
   "codemirror_mode": {
    "name": "ipython",
    "version": 2
   },
   "file_extension": ".py",
   "mimetype": "text/x-python",
   "name": "python",
   "nbconvert_exporter": "python",
   "pygments_lexer": "ipython2",
   "version": "2.7.11"
  }
 },
 "nbformat": 4,
 "nbformat_minor": 0
}